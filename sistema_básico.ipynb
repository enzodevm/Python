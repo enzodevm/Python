{
  "nbformat": 4,
  "nbformat_minor": 0,
  "metadata": {
    "colab": {
      "provenance": [],
      "authorship_tag": "ABX9TyMy0lGa9CXzTYInlqRhudk7",
      "include_colab_link": true
    },
    "kernelspec": {
      "name": "python3",
      "display_name": "Python 3"
    },
    "language_info": {
      "name": "python"
    }
  },
  "cells": [
    {
      "cell_type": "markdown",
      "metadata": {
        "id": "view-in-github",
        "colab_type": "text"
      },
      "source": [
        "<a href=\"https://colab.research.google.com/github/enzodevm/Python/blob/main/sistema_b%C3%A1sico.ipynb\" target=\"_parent\"><img src=\"https://colab.research.google.com/assets/colab-badge.svg\" alt=\"Open In Colab\"/></a>"
      ]
    },
    {
      "cell_type": "code",
      "execution_count": 1,
      "metadata": {
        "colab": {
          "base_uri": "https://localhost:8080/"
        },
        "id": "ORLm_WtYZW5J",
        "outputId": "ac63827e-3106-46f1-f801-728c0d764446"
      },
      "outputs": [
        {
          "output_type": "stream",
          "name": "stdout",
          "text": [
            "Recibo do Pedido:\n",
            "-------------------\n",
            "Hambúrguer: R$ 15.00\n",
            "Parmegiana: R$ 30.00\n",
            "Refrigerante: R$ 5.00\n",
            "Batata: R$ 20.00\n",
            "Hot Dog: R$ 20.00\n",
            "-------------------\n",
            "Total: R$ 90.00\n"
          ]
        }
      ],
      "source": [
        "class Item:\n",
        "    def __init__(self, nome, preco):\n",
        "        self.nome = nome\n",
        "        self.preco = preco\n",
        "\n",
        "class Pedido:\n",
        "    def __init__(self):\n",
        "        self.itens = []\n",
        "\n",
        "    def adicionar_item(self, item):\n",
        "        self.itens.append(item)\n",
        "\n",
        "    def calcular_total(self):\n",
        "        return sum(item.preco for item in self.itens)\n",
        "\n",
        "    def imprimir_recibo(self):\n",
        "        print(\"Recibo do Pedido:\")\n",
        "        print(\"-------------------\")\n",
        "        for item in self.itens:\n",
        "            print(f\"{item.nome}: R$ {item.preco:.2f}\")\n",
        "        print(\"-------------------\")\n",
        "        print(f\"Total: R$ {self.calcular_total():.2f}\")\n",
        "\n",
        "def main():\n",
        "    # Criando alguns itens do menu\n",
        "    item1 = Item(\"Hambúrguer\", 15.00)\n",
        "    item2 = Item(\"Parmegiana\", 30.00)\n",
        "    item3 = Item(\"Refrigerante\", 5.00)\n",
        "    item4 = Item(\"Batata\", 20.00)\n",
        "    item5 = Item(\"Hot Dog\", 20.00)\n",
        "    # Criando um pedido\n",
        "    pedido = Pedido()\n",
        "\n",
        "    # Adicionando itens ao pedido\n",
        "    pedido.adicionar_item(item1)\n",
        "    pedido.adicionar_item(item2)\n",
        "    pedido.adicionar_item(item3)\n",
        "    pedido.adicionar_item(item4)\n",
        "    pedido.adicionar_item(item5)\n",
        "    # Imprimindo o recibo\n",
        "    pedido.imprimir_recibo()\n",
        "\n",
        "if __name__ == \"__main__\":\n",
        "    main()"
      ]
    }
  ]
}