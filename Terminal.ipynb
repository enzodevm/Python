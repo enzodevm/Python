{
  "nbformat": 4,
  "nbformat_minor": 0,
  "metadata": {
    "colab": {
      "provenance": [],
      "authorship_tag": "ABX9TyP8oyWhEyqvMwzr4unOr1XN",
      "include_colab_link": true
    },
    "kernelspec": {
      "name": "python3",
      "display_name": "Python 3"
    },
    "language_info": {
      "name": "python"
    }
  },
  "cells": [
    {
      "cell_type": "markdown",
      "metadata": {
        "id": "view-in-github",
        "colab_type": "text"
      },
      "source": [
        "<a href=\"https://colab.research.google.com/github/enzodevm/Python/blob/main/Terminal.ipynb\" target=\"_parent\"><img src=\"https://colab.research.google.com/assets/colab-badge.svg\" alt=\"Open In Colab\"/></a>"
      ]
    },
    {
      "cell_type": "code",
      "execution_count": 13,
      "metadata": {
        "colab": {
          "base_uri": "https://localhost:8080/"
        },
        "id": "uMm8jxF8BEQ5",
        "outputId": "aabb91ad-8db1-4d0c-b036-e776ca17035d"
      },
      "outputs": [
        {
          "output_type": "stream",
          "name": "stdout",
          "text": [
            "Comando:not\n",
            "Command not Aceppted\n"
          ]
        }
      ],
      "source": [
        "cmd = input(\"Comando:\")\n",
        "\n",
        "if cmd == comando:\n",
        "  print(\"started\")\n",
        "else:\n",
        " print(\"Command not Aceppted\")"
      ]
    },
    {
      "cell_type": "code",
      "source": [
        "comando = \"start\""
      ],
      "metadata": {
        "id": "s16Hhu0XBWwq"
      },
      "execution_count": 8,
      "outputs": []
    }
  ]
}